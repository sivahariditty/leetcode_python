{
  "nbformat": 4,
  "nbformat_minor": 0,
  "metadata": {
    "colab": {
      "provenance": [],
      "authorship_tag": "ABX9TyO6V9rpoH9uMB02wsm30TKC",
      "include_colab_link": true
    },
    "kernelspec": {
      "name": "python3",
      "display_name": "Python 3"
    },
    "language_info": {
      "name": "python"
    }
  },
  "cells": [
    {
      "cell_type": "markdown",
      "metadata": {
        "id": "view-in-github",
        "colab_type": "text"
      },
      "source": [
        "<a href=\"https://colab.research.google.com/github/sivahariditty/leetcode_python/blob/main/Maximum_difference_between_two_elements.ipynb\" target=\"_parent\"><img src=\"https://colab.research.google.com/assets/colab-badge.svg\" alt=\"Open In Colab\"/></a>"
      ]
    },
    {
      "cell_type": "markdown",
      "source": [
        "Maximum difference between two elements such that larger element appears after the smaller number"
      ],
      "metadata": {
        "id": "UiDPsdrc9Y4Y"
      }
    },
    {
      "cell_type": "code",
      "source": [
        "def MaxDiff(arr):\n",
        "  Max = arr[1] - arr[0]\n",
        "  Min = arr[0]\n",
        "  n = len(arr)\n",
        "  for i in range(1,n):\n",
        "    if arr[i] - Min > Max :\n",
        "      Max = arr[i] - Min\n",
        "    if arr[i] < Min:\n",
        "      Min = arr[i]\n",
        "  return Max"
      ],
      "metadata": {
        "id": "TZWL94re9bUc"
      },
      "execution_count": 2,
      "outputs": []
    },
    {
      "cell_type": "code",
      "source": [
        "a = [2, 3, 10, 6, 4, 8, 1]"
      ],
      "metadata": {
        "id": "OdusgNxPEx60"
      },
      "execution_count": 3,
      "outputs": []
    },
    {
      "cell_type": "code",
      "source": [
        "MaxDiff(a)"
      ],
      "metadata": {
        "colab": {
          "base_uri": "https://localhost:8080/"
        },
        "id": "H1yWrZ19E4QI",
        "outputId": "648d41df-f8b3-4ccf-8f3a-b3998768f09b"
      },
      "execution_count": 4,
      "outputs": [
        {
          "output_type": "execute_result",
          "data": {
            "text/plain": [
              "8"
            ]
          },
          "metadata": {},
          "execution_count": 4
        }
      ]
    },
    {
      "cell_type": "code",
      "source": [],
      "metadata": {
        "id": "BsKxCx2_No93"
      },
      "execution_count": null,
      "outputs": []
    }
  ]
}