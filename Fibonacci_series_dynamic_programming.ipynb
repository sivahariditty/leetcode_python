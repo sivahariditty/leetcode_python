{
  "nbformat": 4,
  "nbformat_minor": 0,
  "metadata": {
    "colab": {
      "provenance": [],
      "authorship_tag": "ABX9TyOFhLrfFpVZUy/5aH6kHtGN"
    },
    "kernelspec": {
      "name": "python3",
      "display_name": "Python 3"
    },
    "language_info": {
      "name": "python"
    }
  },
  "cells": [
    {
      "cell_type": "code",
      "execution_count": 7,
      "metadata": {
        "id": "xw56rHZdAcN7"
      },
      "outputs": [],
      "source": [
        "FibArray = [0,1]"
      ]
    },
    {
      "cell_type": "code",
      "source": [
        "def FibSeries(n) :\n",
        "  if(n < len(FibArray)) :\n",
        "    return FibArray[n]\n",
        "  else : \n",
        "    FibArray.append(FibSeries(n-1) + FibSeries(n-2))\n",
        "    return FibArray[n]"
      ],
      "metadata": {
        "id": "eK7hepBqA1V7"
      },
      "execution_count": 8,
      "outputs": []
    },
    {
      "cell_type": "code",
      "source": [
        "FibSeries(10)"
      ],
      "metadata": {
        "colab": {
          "base_uri": "https://localhost:8080/"
        },
        "id": "9hn-UPaSCxIl",
        "outputId": "285192b2-b874-41df-e2a0-ec4011d8c5b9"
      },
      "execution_count": 9,
      "outputs": [
        {
          "output_type": "execute_result",
          "data": {
            "text/plain": [
              "55"
            ]
          },
          "metadata": {},
          "execution_count": 9
        }
      ]
    },
    {
      "cell_type": "code",
      "source": [
        "FibArray"
      ],
      "metadata": {
        "colab": {
          "base_uri": "https://localhost:8080/"
        },
        "id": "j3WtyN_2Dq6B",
        "outputId": "d8551920-7af2-42d6-a413-5e3409ce659b"
      },
      "execution_count": 10,
      "outputs": [
        {
          "output_type": "execute_result",
          "data": {
            "text/plain": [
              "[0, 1, 1, 2, 3, 5, 8, 13, 21, 34, 55]"
            ]
          },
          "metadata": {},
          "execution_count": 10
        }
      ]
    }
  ]
}