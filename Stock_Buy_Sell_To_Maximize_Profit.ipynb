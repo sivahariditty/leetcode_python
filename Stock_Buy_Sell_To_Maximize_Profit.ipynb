{
  "nbformat": 4,
  "nbformat_minor": 0,
  "metadata": {
    "colab": {
      "provenance": [],
      "authorship_tag": "ABX9TyNAexj0I74jBuF9BycRh5fX",
      "include_colab_link": true
    },
    "kernelspec": {
      "name": "python3",
      "display_name": "Python 3"
    },
    "language_info": {
      "name": "python"
    }
  },
  "cells": [
    {
      "cell_type": "markdown",
      "metadata": {
        "id": "view-in-github",
        "colab_type": "text"
      },
      "source": [
        "<a href=\"https://colab.research.google.com/github/sivahariditty/leetcode_python/blob/main/Stock_Buy_Sell_To_Maximize_Profit.ipynb\" target=\"_parent\"><img src=\"https://colab.research.google.com/assets/colab-badge.svg\" alt=\"Open In Colab\"/></a>"
      ]
    },
    {
      "cell_type": "code",
      "execution_count": 9,
      "metadata": {
        "id": "PeOgjKCEN7Nu"
      },
      "outputs": [],
      "source": [
        "def BuySell(arr : []) -> int:\n",
        "  MaxProf = 0\n",
        "  n = len(arr)\n",
        "  i = 0\n",
        "  while(i < n-1):\n",
        "    while(i < n-1 and arr[i+1] <= arr[i]):\n",
        "      i = i + 1\n",
        "    buy = i\n",
        "    i = i + 1\n",
        "    if(i >= n):\n",
        "      break\n",
        "    while(i < n and arr[i] >= arr[i-1]):\n",
        "      i = i+1\n",
        "    sell = i - 1\n",
        "    MaxProf = MaxProf + arr[sell] - arr[buy]\n",
        "    print(buy,sell)\n",
        "  return MaxProf"
      ]
    },
    {
      "cell_type": "code",
      "source": [
        "prices = [100, 180, 260, 310, 40, 535, 695]\n",
        "BuySell(prices)"
      ],
      "metadata": {
        "colab": {
          "base_uri": "https://localhost:8080/"
        },
        "id": "L7q7xYbuUUrU",
        "outputId": "e53ac1cd-1995-4c4c-c474-e55e9d6b8b77"
      },
      "execution_count": 10,
      "outputs": [
        {
          "output_type": "stream",
          "name": "stdout",
          "text": [
            "0 3\n",
            "4 6\n"
          ]
        },
        {
          "output_type": "execute_result",
          "data": {
            "text/plain": [
              "865"
            ]
          },
          "metadata": {},
          "execution_count": 10
        }
      ]
    }
  ]
}