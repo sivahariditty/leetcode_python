{
  "nbformat": 4,
  "nbformat_minor": 0,
  "metadata": {
    "colab": {
      "provenance": [],
      "authorship_tag": "ABX9TyMM4Hv8fWKmgvt+J/aT/s4l"
    },
    "kernelspec": {
      "name": "python3",
      "display_name": "Python 3"
    },
    "language_info": {
      "name": "python"
    }
  },
  "cells": [
    {
      "cell_type": "code",
      "execution_count": null,
      "metadata": {
        "id": "PMJBP8jYWJIG"
      },
      "outputs": [],
      "source": [
        "#!/bin/python3\n",
        "\n",
        "import math\n",
        "import os\n",
        "import random\n",
        "import re\n",
        "import sys\n",
        "\n",
        "\n",
        "\n",
        "#\n",
        "# Complete the 'maximumProfit' function below.\n",
        "#\n",
        "# The function is expected to return a LONG_INTEGER.\n",
        "# The function accepts INTEGER_ARRAY price as parameter.\n",
        "#\n",
        "\n",
        "def maximumProfit(price):\n",
        "    # Write your code here\n",
        "    '''\n",
        "        Time complexity O(n)\n",
        "        Space Complexity O(1)\n",
        "        Method : Parse the array in reverse order. Take last element index as j. \n",
        "        Check the available buying possibilities in reverse order. Whenever a price \n",
        "        greater than the jth value occurs consider that as the new selling price \n",
        "        and update j as the new price index  \n",
        "    '''\n",
        "    i = len(price) - 2\n",
        "    j = len(price) - 1\n",
        "    profit = 0\n",
        "    while(i>=0):\n",
        "        if(price[j]>price[i]):\n",
        "            profit += price[j] - price[i]\n",
        "        else :\n",
        "            j = i\n",
        "        i -= 1\n",
        "    return profit\n",
        "\n",
        "if __name__ == '__main__':\n",
        "    fptr = open(os.environ['OUTPUT_PATH'], 'w')\n",
        "\n",
        "    t = int(input().strip())\n",
        "\n",
        "    for t_itr in range(t):\n",
        "        n = int(input().strip())\n",
        "\n",
        "        price = list(map(int, input().rstrip().split()))\n",
        "\n",
        "        profit = maximumProfit(price)\n",
        "\n",
        "        fptr.write(str(profit) + '\\n')\n",
        "\n",
        "    fptr.close()\n"
      ]
    }
  ]
}