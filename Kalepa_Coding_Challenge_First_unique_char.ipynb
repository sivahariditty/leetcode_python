{
  "nbformat": 4,
  "nbformat_minor": 0,
  "metadata": {
    "colab": {
      "provenance": [],
      "authorship_tag": "ABX9TyP2R5ks3Gme/HjjTsePUWMO"
    },
    "kernelspec": {
      "name": "python3",
      "display_name": "Python 3"
    },
    "language_info": {
      "name": "python"
    }
  },
  "cells": [
    {
      "cell_type": "code",
      "execution_count": null,
      "metadata": {
        "id": "_sSWTfVnPh5X"
      },
      "outputs": [],
      "source": [
        "#!/bin/python3\n",
        "\n",
        "import math\n",
        "import os\n",
        "import random\n",
        "import re\n",
        "import sys\n",
        "\n",
        "\n",
        "#\n",
        "# Complete the 'getUniqueCharacter' function below.\n",
        "#\n",
        "# The function is expected to return an INTEGER.\n",
        "# The function accepts STRING s as parameter.\n",
        "#\n",
        "\n",
        "def getUniqueCharacter(s):\n",
        "    # Write your code here\n",
        "    '''\n",
        "        Time complexity : O(n)\n",
        "        Space Complexity : O(n)\n",
        "    '''\n",
        "    char_dict = {}\n",
        "    for i in range(len(s)):\n",
        "        c = s[i]\n",
        "        if c not in char_dict :\n",
        "            char_dict[c] = [i+1,True]\n",
        "        else :\n",
        "            char_dict[c][1] = False\n",
        "    for i in range(len(s)):\n",
        "        c = s[i]\n",
        "        if char_dict[c][1] == True:\n",
        "            return  char_dict[c][0]\n",
        "    return -1\n",
        "\n",
        "if __name__ == '__main__':\n",
        "    fptr = open(os.environ['OUTPUT_PATH'], 'w')\n",
        "\n",
        "    s = input()\n",
        "\n",
        "    result = getUniqueCharacter(s)\n",
        "\n",
        "    fptr.write(str(result) + '\\n')\n",
        "\n",
        "    fptr.close()\n"
      ]
    }
  ]
}