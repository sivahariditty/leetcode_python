{
  "nbformat": 4,
  "nbformat_minor": 0,
  "metadata": {
    "colab": {
      "provenance": [],
      "authorship_tag": "ABX9TyNjf8R1QyvfA6AiUNBYNDvi",
      "include_colab_link": true
    },
    "kernelspec": {
      "name": "python3",
      "display_name": "Python 3"
    },
    "language_info": {
      "name": "python"
    }
  },
  "cells": [
    {
      "cell_type": "markdown",
      "metadata": {
        "id": "view-in-github",
        "colab_type": "text"
      },
      "source": [
        "<a href=\"https://colab.research.google.com/github/sivahariditty/leetcode_python/blob/main/Given_a_string%2C_find_the_longest_substring_with_2_different_characters.ipynb\" target=\"_parent\"><img src=\"https://colab.research.google.com/assets/colab-badge.svg\" alt=\"Open In Colab\"/></a>"
      ]
    },
    {
      "cell_type": "markdown",
      "source": [
        "Given a string, find the longest substring with 2 different characters.\n",
        "Example:\n",
        "\"ccaaabbac\" -> \"aaabba\"\n",
        "\n",
        "---\n",
        "\n",
        "\n",
        "\"ccacaabbac\" -> \"ccacaa\"\n",
        "\"ccaaabbacccccccccc” -> \"acccccccccc\"\n",
        "\n",
        "Find all ss\n",
        "find more 2 uniq chars"
      ],
      "metadata": {
        "id": "I1bYtiZSzPvn"
      }
    },
    {
      "cell_type": "code",
      "source": [
        "def FindMaxUniqueSubString(inp : str) -> str:\n",
        "  IndxDict = {}\n",
        "  start = 0\n",
        "  end = 1\n",
        "  uniq = 1\n",
        "  MaxLen = 0\n",
        "  MxStr = ''\n",
        "  MxEnd = 0\n",
        "  IndxDict[inp[0]] = 0\n",
        "  while(end < len(inp)):\n",
        "    IndxDict[inp[end]] = end\n",
        "    if len(IndxDict) > 2:\n",
        "      min_ind = min(IndxDict.values())\n",
        "      start = min_ind + 1\n",
        "      del IndxDict[inp[min_ind]]\n",
        "    if MaxLen < end - start + 1:\n",
        "      MxStr = inp[start:end]\n",
        "    MaxLen = max(MaxLen, end - start + 1)\n",
        "    end = end + 1\n",
        "  return MxStr"
      ],
      "metadata": {
        "id": "__NaDm3K09a2"
      },
      "execution_count": 25,
      "outputs": []
    },
    {
      "cell_type": "code",
      "source": [
        "FindMaxUniqueSubString('ccaaabbacccccccccc”')"
      ],
      "metadata": {
        "colab": {
          "base_uri": "https://localhost:8080/",
          "height": 210
        },
        "id": "Kk-OZ_HaGG3q",
        "outputId": "eb36c022-b0a8-49a3-e7f9-18f4d41119c7"
      },
      "execution_count": 26,
      "outputs": [
        {
          "output_type": "stream",
          "name": "stdout",
          "text": [
            "0 1\n",
            "0 2\n",
            "0 3\n",
            "0 4\n",
            "2 7\n",
            "7 13\n",
            "7 14\n",
            "7 15\n",
            "7 16\n",
            "7 17\n"
          ]
        },
        {
          "output_type": "execute_result",
          "data": {
            "text/plain": [
              "'accccccccc'"
            ],
            "application/vnd.google.colaboratory.intrinsic+json": {
              "type": "string"
            }
          },
          "metadata": {},
          "execution_count": 26
        }
      ]
    }
  ]
}