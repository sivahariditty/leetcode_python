{
  "nbformat": 4,
  "nbformat_minor": 0,
  "metadata": {
    "colab": {
      "provenance": [],
      "authorship_tag": "ABX9TyOqGw5qBKjwXAR+caKLuL77",
      "include_colab_link": true
    },
    "kernelspec": {
      "name": "python3",
      "display_name": "Python 3"
    },
    "language_info": {
      "name": "python"
    }
  },
  "cells": [
    {
      "cell_type": "markdown",
      "metadata": {
        "id": "view-in-github",
        "colab_type": "text"
      },
      "source": [
        "<a href=\"https://colab.research.google.com/github/sivahariditty/leetcode_python/blob/main/Find_building_details_from_lat_lon.ipynb\" target=\"_parent\"><img src=\"https://colab.research.google.com/assets/colab-badge.svg\" alt=\"Open In Colab\"/></a>"
      ]
    },
    {
      "cell_type": "code",
      "execution_count": 2,
      "metadata": {
        "colab": {
          "base_uri": "https://localhost:8080/"
        },
        "id": "CA9x2wI3iLhC",
        "outputId": "037b84ac-ac83-4d9a-b1aa-4da315e3c1f7"
      },
      "outputs": [
        {
          "output_type": "stream",
          "name": "stdout",
          "text": [
            "No buildings found in the vicinity.\n"
          ]
        }
      ],
      "source": [
        "import requests\n",
        "\n",
        "def get_building_details(latitude, longitude):\n",
        "    # Overpass API endpoint for building details\n",
        "    endpoint = \"https://overpass-api.de/api/interpreter\"\n",
        "\n",
        "    # Overpass query to find the building based on latitude and longitude\n",
        "    overpass_query = f\"\"\"\n",
        "        [out:json];\n",
        "        (\n",
        "            way\n",
        "            (around:10, {latitude}, {longitude})[\"building\"];\n",
        "        );\n",
        "        out body;\n",
        "    \"\"\"\n",
        "\n",
        "    # Set up the POST request to the Overpass API\n",
        "    payload = {\"data\": overpass_query}\n",
        "    response = requests.post(endpoint, data=payload)\n",
        "\n",
        "    # Check if the request was successful\n",
        "    if response.status_code == 200:\n",
        "        result = response.json()\n",
        "\n",
        "        # Check if buildings were found\n",
        "        if result['elements']:\n",
        "            # Extract and print relevant information\n",
        "            building = result['elements'][0]\n",
        "            building_id = building['id']\n",
        "            building_type = building['tags']['building']\n",
        "            print(f\"Building ID: {building_id}\")\n",
        "            print(f\"Building Type: {building_type}\")\n",
        "        else:\n",
        "            print(\"No buildings found in the vicinity.\")\n",
        "    else:\n",
        "        print(f\"Error: {response.status_code} - {response.text}\")\n",
        "\n",
        "# Example latitude and longitude\n",
        "\n"
      ]
    },
    {
      "cell_type": "code",
      "source": [
        "latitude = 49.7516586568077\n",
        "longitude = 6.684978293081559\n",
        "\n",
        "get_building_details(latitude, longitude)"
      ],
      "metadata": {
        "colab": {
          "base_uri": "https://localhost:8080/"
        },
        "id": "ViEdH4N2iybI",
        "outputId": "6efbfc27-8462-48f6-928c-44372923cb98"
      },
      "execution_count": 3,
      "outputs": [
        {
          "output_type": "stream",
          "name": "stdout",
          "text": [
            "Building ID: 134655045\n",
            "Building Type: retail\n"
          ]
        }
      ]
    },
    {
      "cell_type": "code",
      "source": [],
      "metadata": {
        "id": "utjyQpMLiOtH"
      },
      "execution_count": null,
      "outputs": []
    }
  ]
}